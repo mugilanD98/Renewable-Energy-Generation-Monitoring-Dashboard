{
 "cells": [
  {
   "cell_type": "code",
   "execution_count": 34,
   "metadata": {},
   "outputs": [],
   "source": [
    "# Importing Libraries\n",
    "import requests, time, random\n",
    "from selenium import webdriver\n",
    "from selenium.common.exceptions import NoSuchElementException\n",
    "from selenium.common.exceptions import StaleElementReferenceException\n",
    "from selenium.webdriver import ActionChains\n",
    "import pandas as pd\n",
    "import pprint\n",
    "import time\n",
    "import datetime\n",
    "from datetime import date\n",
    "import math\n",
    "from numpy import inf\n",
    "from datetime import timedelta\n",
    "import numpy as np\n",
    "from dateutil.relativedelta import relativedelta\n",
    "from selenium.webdriver.support.ui import Select\n",
    "from datetime import datetime\n",
    "\n",
    "#Libraries for SQL connection\n",
    "import mysql.connector\n",
    "import pymysql\n",
    "from sqlalchemy import create_engine"
   ]
  },
  {
   "cell_type": "code",
   "execution_count": 35,
   "metadata": {},
   "outputs": [],
   "source": [
    "# Initializing a Chrome Browser using Selenium\n",
    "browser = webdriver.Chrome(r'C:\\Users\\madhu\\Documents\\Mugilan\\Renewable Energy\\chromedriver_win32\\chromedriver.exe')"
   ]
  },
  {
   "cell_type": "code",
   "execution_count": 36,
   "metadata": {},
   "outputs": [],
   "source": [
    "# Access webpage\n",
    "browser.get('https://cea.nic.in/daily-renewable-generation-report/?lang=en')\n",
    "\n",
    "browser.maximize_window()\n",
    "\n",
    "time.sleep(30)"
   ]
  },
  {
   "cell_type": "code",
   "execution_count": 37,
   "metadata": {},
   "outputs": [],
   "source": [
    "# Select ALl Records per page\n",
    "\n",
    "select = Select(browser.find_element_by_name('table_length'))\n",
    "\n",
    "select.select_by_value('-1')"
   ]
  },
  {
   "cell_type": "code",
   "execution_count": 38,
   "metadata": {},
   "outputs": [
    {
     "name": "stdout",
     "output_type": "stream",
     "text": [
      "07/30/2021\n"
     ]
    }
   ],
   "source": [
    "# Set Min and Max Date\n",
    "max_dt = (date.today() + relativedelta(days=1)).strftime(\"%m/%d/%Y\")\n",
    "min_dt = (date.today() - relativedelta(months=1)).strftime(\"%m/01/%Y\")\n",
    "\n",
    "print(max_dt)\n",
    "\n",
    "#Set Min Date\n",
    "min_date = browser.find_element_by_name('min')\n",
    "min_date.clear()\n",
    "min_date.send_keys(min_dt)\n",
    "\n",
    "#Set Max Date\n",
    "max_date = browser.find_element_by_name('max')\n",
    "max_date.clear()\n",
    "max_date.send_keys(max_dt)"
   ]
  },
  {
   "cell_type": "code",
   "execution_count": 39,
   "metadata": {},
   "outputs": [],
   "source": [
    "#Extract Latest Report Link\n",
    "\n",
    "report_down_link_df = pd.DataFrame()\n",
    "\n",
    "try:\n",
    "    for all_rep in browser.find_elements_by_class_name('dataTable.no-footer'):\n",
    "        for rep in all_rep.find_elements_by_tag_name('tbody'):\n",
    "            for latest_rep in rep.find_elements_by_tag_name('tr'):\n",
    "                report_dt = latest_rep.find_element_by_class_name('sorting_1').text\n",
    "                for latest_rep_xl in latest_rep.find_elements_by_tag_name('a'):\n",
    "                    if latest_rep_xl.get_attribute('href').endswith('.xlsx'):\n",
    "                        latest_report_link = latest_rep_xl.get_attribute('href')\n",
    "                        df_len = len(report_down_link_df)\n",
    "                        report_down_link_df.loc[df_len,'download_link'] = latest_report_link\n",
    "                        report_down_link_df.loc[df_len,'report_date'] = report_dt\n",
    "                        \n",
    "except:\n",
    "    pass\n",
    "\n",
    "report_down_link_df = report_down_link_df.drop_duplicates().reset_index(drop = True)\n",
    "\n",
    "report_down_link_df['report_date'] = pd.to_datetime(report_down_link_df['report_date'])"
   ]
  },
  {
   "cell_type": "code",
   "execution_count": 70,
   "metadata": {},
   "outputs": [],
   "source": [
    "# Connect to the database\n",
    "mydb = mysql.connector.connect(\n",
    "  host=\"mysql-41080-0.cloudclusters.net\",\n",
    "  port=18738,\n",
    "  db='energy',\n",
    "  user=\"test\",\n",
    "  password=\"test1234\"\n",
    ")\n",
    "\n",
    "# create cursor\n",
    "cursor=mydb.cursor()"
   ]
  },
  {
   "cell_type": "code",
   "execution_count": 41,
   "metadata": {},
   "outputs": [
    {
     "name": "stdout",
     "output_type": "stream",
     "text": [
      "48\n",
      "2021-07-18 00:00:00\n"
     ]
    }
   ],
   "source": [
    "# Checking Max Date from the Master Table\n",
    "\n",
    "cursor.execute(\"SELECT count(distinct report_date) as report_count FROM energy_state_level\")\n",
    "\n",
    "report_cnt = cursor.fetchall()\n",
    "\n",
    "for x in report_cnt:\n",
    "    report_count = int(x[0])\n",
    "    print(report_count)\n",
    "\n",
    "if report_count > 0:\n",
    "    \n",
    "    cursor.execute(\"SELECT max(report_date) as max_report_date FROM energy_state_level\")\n",
    "\n",
    "    max_report_dt = cursor.fetchall()\n",
    "\n",
    "    for x in max_report_dt:\n",
    "        max_report_date = x[0]\n",
    "        \n",
    "else:\n",
    "    max_report_date = '01-01-2020'\n",
    "\n",
    "max_report_date = pd.to_datetime(max_report_date)\n",
    "\n",
    "print(max_report_date)\n",
    "\n",
    "report_down_link_df_bkp = report_down_link_df.copy()\n",
    "\n",
    "report_down_link_df = report_down_link_df[report_down_link_df['report_date'] > max_report_date]\n",
    "\n",
    "report_down_link_df = report_down_link_df.reset_index(drop = True)"
   ]
  },
  {
   "cell_type": "code",
   "execution_count": 43,
   "metadata": {},
   "outputs": [],
   "source": [
    "# Extract Data from Reports\n",
    "\n",
    "master_report_df = pd.DataFrame()\n",
    "\n",
    "for i in range(len(report_down_link_df)):\n",
    "    \n",
    "    report_df = pd.DataFrame()\n",
    "    \n",
    "    report_link = report_down_link_df.loc[i,'download_link']\n",
    "    report_date = report_down_link_df.loc[i,'report_date']\n",
    "    \n",
    "    report_df = pd.read_excel(report_link, sheet_name= 0,skiprows=5)\n",
    "    \n",
    "    report_df = report_df.dropna(thresh=8)\n",
    "    \n",
    "    report_df = report_df.dropna(how='all',axis=1)\n",
    "    \n",
    "    report_df.columns = ['state','wind','solar','others','total','wind_cum','solar_cum','others_cum','total_cum']\n",
    "    \n",
    "    report_df['report_date'] = report_date.strftime(\"%Y-%m-%d\")\n",
    "    \n",
    "    report_df['state'] = report_df['state'].str.split('/',expand=True)[1]\n",
    "    \n",
    "    report_df['state'] = report_df['state'].str.strip()\n",
    "    \n",
    "    master_report_df = pd.concat([master_report_df,report_df])\n",
    "    \n",
    "    master_report_df = master_report_df.reset_index(drop = True)"
   ]
  },
  {
   "cell_type": "code",
   "execution_count": 45,
   "metadata": {},
   "outputs": [],
   "source": [
    "# creating column list for insertion\n",
    "cols = \"`,`\".join([str(i) for i in master_report_df.columns.tolist()])\n",
    "\n",
    "# Insert DataFrame recrds one by one.\n",
    "for i,row in master_report_df.iterrows():\n",
    "    sql = \"INSERT INTO `energy_state_level` (`\" +cols + \"`) VALUES (\" + \"%s,\"*(len(row)-1) + \"%s)\"\n",
    "    cursor.execute(sql, tuple(row))\n",
    "\n",
    "    # the connection is not autocommitted by default, so we must commit to save our changes\n",
    "    mydb.commit()"
   ]
  },
  {
   "cell_type": "code",
   "execution_count": 46,
   "metadata": {},
   "outputs": [],
   "source": [
    "# Access webpage\n",
    "browser.get('https://www.renewablesindia.in/')\n",
    "\n",
    "time.sleep(30)"
   ]
  },
  {
   "cell_type": "code",
   "execution_count": 80,
   "metadata": {},
   "outputs": [],
   "source": [
    "#Extracting CO2 Emission\n",
    "\n",
    "co2_class = browser.find_element_by_class_name('col-xs-12.col-sm-12')\n",
    "\n",
    "co2 = co2_class.find_element_by_class_name('card-heading-1').text\n",
    "\n",
    "co2 = co2.split()[0].strip()\n",
    "\n",
    "r_date = browser.find_element_by_class_name('card-date-1').text\n",
    "\n",
    "r_date_format = pd.to_datetime(r_date).strftime(\"%Y-%m-%d\")"
   ]
  },
  {
   "cell_type": "code",
   "execution_count": 89,
   "metadata": {},
   "outputs": [],
   "source": [
    "# Connect to the database\n",
    "mydb = mysql.connector.connect(\n",
    "  host=\"mysql-41080-0.cloudclusters.net\",\n",
    "  port=18738,\n",
    "  db='energy',\n",
    "  user=\"test\",\n",
    "  password=\"test1234\"\n",
    ")\n",
    "\n",
    "# create cursor\n",
    "cursor=mydb.cursor()"
   ]
  },
  {
   "cell_type": "code",
   "execution_count": 83,
   "metadata": {},
   "outputs": [],
   "source": [
    "# Writing to DB\n",
    "\n",
    "sql = \"TRUNCATE TABLE daily_overall_summary\"\n",
    "\n",
    "cursor.execute(sql)\n",
    "\n",
    "sql = \"INSERT INTO `daily_overall_summary` (`co`, `report_date`, `report_date_format`) VALUES (%s, %s, %s)\"\n",
    "\n",
    "cursor.execute(sql, (co2, r_date, r_date_format))\n",
    "\n",
    "mydb.commit()"
   ]
  },
  {
   "cell_type": "code",
   "execution_count": 86,
   "metadata": {},
   "outputs": [],
   "source": [
    "# Extract Latest ISGS Data\n",
    "\n",
    "for i in range(1):\n",
    "    \n",
    "    report_link = report_down_link_df.loc[i,'download_link']\n",
    "    report_date = report_down_link_df.loc[i,'report_date']\n",
    "    \n",
    "    isgs_report_df = pd.read_excel(report_link, sheet_name= 1,skiprows=5)\n",
    "    \n",
    "    isgs_report_df = isgs_report_df.dropna(thresh=8)\n",
    "    \n",
    "    isgs_report_df = isgs_report_df.dropna(how='all',axis=1)\n",
    "    \n",
    "    isgs_report_df.columns = ['station','state','sector','owner','type','installed','actual','cumulative']\n",
    "    \n",
    "    isgs_report_df = isgs_report_df[['state','sector','type','installed','actual']]"
   ]
  },
  {
   "cell_type": "code",
   "execution_count": 90,
   "metadata": {},
   "outputs": [],
   "source": [
    "# Writing to DB\n",
    "\n",
    "sql = \"TRUNCATE TABLE isgs_data\"\n",
    "\n",
    "cursor.execute(sql)\n",
    "\n",
    "# creating column list for insertion\n",
    "cols = \"`,`\".join([str(i) for i in isgs_report_df.columns.tolist()])\n",
    "\n",
    "# Insert DataFrame recrds one by one.\n",
    "for i,row in isgs_report_df.iterrows():\n",
    "    sql = \"INSERT INTO `isgs_data` (`\" +cols + \"`) VALUES (\" + \"%s,\"*(len(row)-1) + \"%s)\"\n",
    "    cursor.execute(sql, tuple(row))\n",
    "\n",
    "    # the connection is not autocommitted by default, so we must commit to save our changes\n",
    "    mydb.commit()"
   ]
  },
  {
   "cell_type": "code",
   "execution_count": null,
   "metadata": {},
   "outputs": [],
   "source": []
  },
  {
   "cell_type": "code",
   "execution_count": null,
   "metadata": {},
   "outputs": [],
   "source": []
  }
 ],
 "metadata": {
  "kernelspec": {
   "display_name": "Python 3",
   "language": "python",
   "name": "python3"
  },
  "language_info": {
   "codemirror_mode": {
    "name": "ipython",
    "version": 3
   },
   "file_extension": ".py",
   "mimetype": "text/x-python",
   "name": "python",
   "nbconvert_exporter": "python",
   "pygments_lexer": "ipython3",
   "version": "3.8.5"
  }
 },
 "nbformat": 4,
 "nbformat_minor": 4
}
